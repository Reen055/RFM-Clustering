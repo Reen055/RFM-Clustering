{
 "cells": [
  {
   "cell_type": "code",
   "execution_count": 1,
   "metadata": {},
   "outputs": [],
   "source": [
    "from datetime import datetime\n",
    "import pandas as pd\n",
    "import numpy as np"
   ]
  },
  {
   "cell_type": "code",
   "execution_count": 2,
   "metadata": {},
   "outputs": [
    {
     "name": "stderr",
     "output_type": "stream",
     "text": [
      "C:\\Users\\maure\\AppData\\Local\\Temp\\ipykernel_9732\\4078187727.py:1: UserWarning: Parsing dates in DD/MM/YYYY format when dayfirst=False (the default) was specified. This may lead to inconsistently parsed dates! Specify a format to ensure consistent parsing.\n",
      "  data = pd.read_csv('copia.csv', parse_dates= ['date_order'])\n"
     ]
    },
    {
     "data": {
      "text/html": [
       "<div>\n",
       "<style scoped>\n",
       "    .dataframe tbody tr th:only-of-type {\n",
       "        vertical-align: middle;\n",
       "    }\n",
       "\n",
       "    .dataframe tbody tr th {\n",
       "        vertical-align: top;\n",
       "    }\n",
       "\n",
       "    .dataframe thead th {\n",
       "        text-align: right;\n",
       "    }\n",
       "</style>\n",
       "<table border=\"1\" class=\"dataframe\">\n",
       "  <thead>\n",
       "    <tr style=\"text-align: right;\">\n",
       "      <th></th>\n",
       "      <th>customer_id</th>\n",
       "      <th>order_id</th>\n",
       "      <th>date_order</th>\n",
       "      <th>spend</th>\n",
       "      <th>category</th>\n",
       "      <th>margin</th>\n",
       "    </tr>\n",
       "  </thead>\n",
       "  <tbody>\n",
       "    <tr>\n",
       "      <th>0</th>\n",
       "      <td>4540910</td>\n",
       "      <td>36965281.0</td>\n",
       "      <td>2023-07-31</td>\n",
       "      <td>51.72</td>\n",
       "      <td>Beauty</td>\n",
       "      <td>18.5400</td>\n",
       "    </tr>\n",
       "    <tr>\n",
       "      <th>1</th>\n",
       "      <td>5392962</td>\n",
       "      <td>36733011.0</td>\n",
       "      <td>2023-07-24</td>\n",
       "      <td>185.34</td>\n",
       "      <td>Foodstuff</td>\n",
       "      <td>16.5383</td>\n",
       "    </tr>\n",
       "    <tr>\n",
       "      <th>2</th>\n",
       "      <td>2294191</td>\n",
       "      <td>36413968.0</td>\n",
       "      <td>2023-07-15</td>\n",
       "      <td>444.00</td>\n",
       "      <td>Foodstuff</td>\n",
       "      <td>27.3334</td>\n",
       "    </tr>\n",
       "    <tr>\n",
       "      <th>3</th>\n",
       "      <td>5566823</td>\n",
       "      <td>36541949.0</td>\n",
       "      <td>2023-07-19</td>\n",
       "      <td>4564.66</td>\n",
       "      <td>Electronics</td>\n",
       "      <td>1116.3800</td>\n",
       "    </tr>\n",
       "    <tr>\n",
       "      <th>4</th>\n",
       "      <td>577996</td>\n",
       "      <td>35967178.0</td>\n",
       "      <td>2023-05-07</td>\n",
       "      <td>190.00</td>\n",
       "      <td>Foodstuff</td>\n",
       "      <td>82.9200</td>\n",
       "    </tr>\n",
       "  </tbody>\n",
       "</table>\n",
       "</div>"
      ],
      "text/plain": [
       "   customer_id    order_id date_order    spend     category     margin\n",
       "0      4540910  36965281.0 2023-07-31    51.72       Beauty    18.5400\n",
       "1      5392962  36733011.0 2023-07-24   185.34    Foodstuff    16.5383\n",
       "2      2294191  36413968.0 2023-07-15   444.00    Foodstuff    27.3334\n",
       "3      5566823  36541949.0 2023-07-19  4564.66  Electronics  1116.3800\n",
       "4       577996  35967178.0 2023-05-07   190.00    Foodstuff    82.9200"
      ]
     },
     "execution_count": 2,
     "metadata": {},
     "output_type": "execute_result"
    }
   ],
   "source": [
    "data = pd.read_csv('copia.csv', parse_dates= ['date_order'])\n",
    "data.head()"
   ]
  },
  {
   "cell_type": "code",
   "execution_count": 3,
   "metadata": {},
   "outputs": [
    {
     "data": {
      "text/plain": [
       "customer_id      0\n",
       "order_id       996\n",
       "date_order       0\n",
       "spend            0\n",
       "category         0\n",
       "margin           0\n",
       "dtype: int64"
      ]
     },
     "execution_count": 3,
     "metadata": {},
     "output_type": "execute_result"
    }
   ],
   "source": [
    "data.isnull().sum()"
   ]
  },
  {
   "cell_type": "code",
   "execution_count": 4,
   "metadata": {},
   "outputs": [
    {
     "data": {
      "text/plain": [
       "1048575"
      ]
     },
     "execution_count": 4,
     "metadata": {},
     "output_type": "execute_result"
    }
   ],
   "source": [
    "len(data)"
   ]
  },
  {
   "cell_type": "code",
   "execution_count": 5,
   "metadata": {},
   "outputs": [
    {
     "data": {
      "text/html": [
       "<div>\n",
       "<style scoped>\n",
       "    .dataframe tbody tr th:only-of-type {\n",
       "        vertical-align: middle;\n",
       "    }\n",
       "\n",
       "    .dataframe tbody tr th {\n",
       "        vertical-align: top;\n",
       "    }\n",
       "\n",
       "    .dataframe thead th {\n",
       "        text-align: right;\n",
       "    }\n",
       "</style>\n",
       "<table border=\"1\" class=\"dataframe\">\n",
       "  <thead>\n",
       "    <tr style=\"text-align: right;\">\n",
       "      <th></th>\n",
       "      <th>customer_id</th>\n",
       "      <th>order_id</th>\n",
       "      <th>date_order</th>\n",
       "      <th>spend</th>\n",
       "      <th>category</th>\n",
       "      <th>margin</th>\n",
       "    </tr>\n",
       "  </thead>\n",
       "  <tbody>\n",
       "    <tr>\n",
       "      <th>843475</th>\n",
       "      <td>6009636</td>\n",
       "      <td>36920852.0</td>\n",
       "      <td>2023-07-29</td>\n",
       "      <td>370.69</td>\n",
       "      <td>Foodstuff</td>\n",
       "      <td>29.01</td>\n",
       "    </tr>\n",
       "    <tr>\n",
       "      <th>999669</th>\n",
       "      <td>5930318</td>\n",
       "      <td>36432697.0</td>\n",
       "      <td>2023-07-15</td>\n",
       "      <td>159.48</td>\n",
       "      <td>Household</td>\n",
       "      <td>34.48</td>\n",
       "    </tr>\n",
       "    <tr>\n",
       "      <th>931200</th>\n",
       "      <td>3006077</td>\n",
       "      <td>36345354.0</td>\n",
       "      <td>2023-07-14</td>\n",
       "      <td>190.00</td>\n",
       "      <td>Foodstuff</td>\n",
       "      <td>11.52</td>\n",
       "    </tr>\n",
       "    <tr>\n",
       "      <th>792931</th>\n",
       "      <td>4627416</td>\n",
       "      <td>35853194.0</td>\n",
       "      <td>2023-03-07</td>\n",
       "      <td>155.17</td>\n",
       "      <td>Beauty</td>\n",
       "      <td>34.09</td>\n",
       "    </tr>\n",
       "    <tr>\n",
       "      <th>403727</th>\n",
       "      <td>6004847</td>\n",
       "      <td>36889860.0</td>\n",
       "      <td>2023-07-28</td>\n",
       "      <td>39.66</td>\n",
       "      <td>School</td>\n",
       "      <td>12.06</td>\n",
       "    </tr>\n",
       "  </tbody>\n",
       "</table>\n",
       "</div>"
      ],
      "text/plain": [
       "        customer_id    order_id date_order   spend   category  margin\n",
       "843475      6009636  36920852.0 2023-07-29  370.69  Foodstuff   29.01\n",
       "999669      5930318  36432697.0 2023-07-15  159.48  Household   34.48\n",
       "931200      3006077  36345354.0 2023-07-14  190.00  Foodstuff   11.52\n",
       "792931      4627416  35853194.0 2023-03-07  155.17     Beauty   34.09\n",
       "403727      6004847  36889860.0 2023-07-28   39.66     School   12.06"
      ]
     },
     "execution_count": 5,
     "metadata": {},
     "output_type": "execute_result"
    }
   ],
   "source": [
    "data = data.sample(500000,random_state=4)\n",
    "data.head()"
   ]
  },
  {
   "cell_type": "code",
   "execution_count": 6,
   "metadata": {},
   "outputs": [
    {
     "data": {
      "text/plain": [
       "500000"
      ]
     },
     "execution_count": 6,
     "metadata": {},
     "output_type": "execute_result"
    }
   ],
   "source": [
    "len(data)"
   ]
  },
  {
   "cell_type": "code",
   "execution_count": 7,
   "metadata": {},
   "outputs": [],
   "source": [
    "df = data.copy()"
   ]
  },
  {
   "cell_type": "code",
   "execution_count": 8,
   "metadata": {},
   "outputs": [
    {
     "data": {
      "text/plain": [
       "customer_id             int64\n",
       "order_id              float64\n",
       "date_order     datetime64[ns]\n",
       "spend                 float64\n",
       "category               object\n",
       "margin                float64\n",
       "dtype: object"
      ]
     },
     "execution_count": 8,
     "metadata": {},
     "output_type": "execute_result"
    }
   ],
   "source": [
    "df.dtypes"
   ]
  },
  {
   "cell_type": "code",
   "execution_count": 10,
   "metadata": {},
   "outputs": [
    {
     "data": {
      "text/plain": [
       "customer_id      0\n",
       "order_id       473\n",
       "date_order       0\n",
       "spend            0\n",
       "category         0\n",
       "margin           0\n",
       "dtype: int64"
      ]
     },
     "execution_count": 10,
     "metadata": {},
     "output_type": "execute_result"
    }
   ],
   "source": [
    "df.isnull().sum()"
   ]
  },
  {
   "cell_type": "code",
   "execution_count": 12,
   "metadata": {},
   "outputs": [],
   "source": [
    "# calculate recency using the current date\n",
    "today_date = pd.to_datetime('2023-08-31')"
   ]
  },
  {
   "cell_type": "code",
   "execution_count": 13,
   "metadata": {},
   "outputs": [],
   "source": [
    "rfm = df.groupby('customer_id', as_index=False).agg({\n",
    "    'date_order' : lambda v: (today_date - v.max()).days,\n",
    "    'order_id' : 'count',\n",
    "    'spend' : 'sum',\n",
    "    'margin' : 'sum'\n",
    "})"
   ]
  },
  {
   "cell_type": "code",
   "execution_count": 14,
   "metadata": {},
   "outputs": [
    {
     "data": {
      "text/html": [
       "<div>\n",
       "<style scoped>\n",
       "    .dataframe tbody tr th:only-of-type {\n",
       "        vertical-align: middle;\n",
       "    }\n",
       "\n",
       "    .dataframe tbody tr th {\n",
       "        vertical-align: top;\n",
       "    }\n",
       "\n",
       "    .dataframe thead th {\n",
       "        text-align: right;\n",
       "    }\n",
       "</style>\n",
       "<table border=\"1\" class=\"dataframe\">\n",
       "  <thead>\n",
       "    <tr style=\"text-align: right;\">\n",
       "      <th></th>\n",
       "      <th>customer_id</th>\n",
       "      <th>Recency</th>\n",
       "      <th>Frequency</th>\n",
       "      <th>Monetary</th>\n",
       "      <th>Margin</th>\n",
       "    </tr>\n",
       "  </thead>\n",
       "  <tbody>\n",
       "    <tr>\n",
       "      <th>0</th>\n",
       "      <td>1</td>\n",
       "      <td>40</td>\n",
       "      <td>3</td>\n",
       "      <td>2409.93</td>\n",
       "      <td>260.9508</td>\n",
       "    </tr>\n",
       "    <tr>\n",
       "      <th>1</th>\n",
       "      <td>40</td>\n",
       "      <td>45</td>\n",
       "      <td>1</td>\n",
       "      <td>2616.00</td>\n",
       "      <td>131.0400</td>\n",
       "    </tr>\n",
       "    <tr>\n",
       "      <th>2</th>\n",
       "      <td>52</td>\n",
       "      <td>177</td>\n",
       "      <td>2</td>\n",
       "      <td>1257.00</td>\n",
       "      <td>419.3200</td>\n",
       "    </tr>\n",
       "    <tr>\n",
       "      <th>3</th>\n",
       "      <td>91</td>\n",
       "      <td>-98</td>\n",
       "      <td>2</td>\n",
       "      <td>3680.52</td>\n",
       "      <td>431.6400</td>\n",
       "    </tr>\n",
       "    <tr>\n",
       "      <th>4</th>\n",
       "      <td>140</td>\n",
       "      <td>24</td>\n",
       "      <td>5</td>\n",
       "      <td>14159.11</td>\n",
       "      <td>6776.2200</td>\n",
       "    </tr>\n",
       "  </tbody>\n",
       "</table>\n",
       "</div>"
      ],
      "text/plain": [
       "   customer_id  Recency  Frequency  Monetary     Margin\n",
       "0            1       40          3   2409.93   260.9508\n",
       "1           40       45          1   2616.00   131.0400\n",
       "2           52      177          2   1257.00   419.3200\n",
       "3           91      -98          2   3680.52   431.6400\n",
       "4          140       24          5  14159.11  6776.2200"
      ]
     },
     "execution_count": 14,
     "metadata": {},
     "output_type": "execute_result"
    }
   ],
   "source": [
    "rfm.rename(\n",
    "    columns= { \n",
    "        'date_order' : 'Recency',\n",
    "        'order_id' : 'Frequency',\n",
    "        'spend' : 'Monetary',\n",
    "        'margin' : 'Margin'\n",
    "    },\n",
    "    inplace = True\n",
    ")\n",
    "\n",
    "rfm.head()"
   ]
  },
  {
   "cell_type": "code",
   "execution_count": 15,
   "metadata": {},
   "outputs": [],
   "source": [
    "def categorize_customer(df1):\n",
    "    high_freq = 2  # Set your desired threshold for high frequency\n",
    "    high_monetary = 750  # Set your desired threshold for high monetary value\n",
    "    low_freq = 2  # Set your desired threshold for low frequency\n",
    "    low_monetary = 500  # Set your desired threshold for low monetary value\n",
    "    \n",
    "    # Create boolean based on your conditions\n",
    "    high_value = (df1[\"Frequency\"] > high_freq) & (df1['Monetary'] > high_monetary)\n",
    "    low_value = (df1[\"Frequency\"] < low_freq) & (df1['Monetary'] <= low_monetary)\n",
    "\n",
    "    # Assign customer categories based on the boolean\n",
    "    df1.loc[high_value, \"customer_category\"] = \"high_value\"\n",
    "    df1.loc[low_value, \"customer_category\"] = \"low_value\"\n",
    "    df1.loc[~(high_value | low_value), \"customer_category\"] = \"medium_value\"\n",
    "\n",
    "    return df1\n",
    "\n",
    "# Call the function and store the result in RFM\n",
    "RFM = categorize_customer(rfm)\n"
   ]
  },
  {
   "cell_type": "code",
   "execution_count": 16,
   "metadata": {},
   "outputs": [
    {
     "data": {
      "text/html": [
       "<div>\n",
       "<style scoped>\n",
       "    .dataframe tbody tr th:only-of-type {\n",
       "        vertical-align: middle;\n",
       "    }\n",
       "\n",
       "    .dataframe tbody tr th {\n",
       "        vertical-align: top;\n",
       "    }\n",
       "\n",
       "    .dataframe thead th {\n",
       "        text-align: right;\n",
       "    }\n",
       "</style>\n",
       "<table border=\"1\" class=\"dataframe\">\n",
       "  <thead>\n",
       "    <tr style=\"text-align: right;\">\n",
       "      <th></th>\n",
       "      <th>customer_id</th>\n",
       "      <th>Recency</th>\n",
       "      <th>Frequency</th>\n",
       "      <th>Monetary</th>\n",
       "      <th>Margin</th>\n",
       "      <th>customer_category</th>\n",
       "    </tr>\n",
       "  </thead>\n",
       "  <tbody>\n",
       "    <tr>\n",
       "      <th>0</th>\n",
       "      <td>1</td>\n",
       "      <td>40</td>\n",
       "      <td>3</td>\n",
       "      <td>2409.93</td>\n",
       "      <td>260.9508</td>\n",
       "      <td>high_value</td>\n",
       "    </tr>\n",
       "    <tr>\n",
       "      <th>1</th>\n",
       "      <td>40</td>\n",
       "      <td>45</td>\n",
       "      <td>1</td>\n",
       "      <td>2616.00</td>\n",
       "      <td>131.0400</td>\n",
       "      <td>medium_value</td>\n",
       "    </tr>\n",
       "    <tr>\n",
       "      <th>2</th>\n",
       "      <td>52</td>\n",
       "      <td>177</td>\n",
       "      <td>2</td>\n",
       "      <td>1257.00</td>\n",
       "      <td>419.3200</td>\n",
       "      <td>medium_value</td>\n",
       "    </tr>\n",
       "    <tr>\n",
       "      <th>3</th>\n",
       "      <td>91</td>\n",
       "      <td>-98</td>\n",
       "      <td>2</td>\n",
       "      <td>3680.52</td>\n",
       "      <td>431.6400</td>\n",
       "      <td>medium_value</td>\n",
       "    </tr>\n",
       "    <tr>\n",
       "      <th>4</th>\n",
       "      <td>140</td>\n",
       "      <td>24</td>\n",
       "      <td>5</td>\n",
       "      <td>14159.11</td>\n",
       "      <td>6776.2200</td>\n",
       "      <td>high_value</td>\n",
       "    </tr>\n",
       "  </tbody>\n",
       "</table>\n",
       "</div>"
      ],
      "text/plain": [
       "   customer_id  Recency  Frequency  Monetary     Margin customer_category\n",
       "0            1       40          3   2409.93   260.9508        high_value\n",
       "1           40       45          1   2616.00   131.0400      medium_value\n",
       "2           52      177          2   1257.00   419.3200      medium_value\n",
       "3           91      -98          2   3680.52   431.6400      medium_value\n",
       "4          140       24          5  14159.11  6776.2200        high_value"
      ]
     },
     "execution_count": 16,
     "metadata": {},
     "output_type": "execute_result"
    }
   ],
   "source": [
    "RFM.head()"
   ]
  },
  {
   "cell_type": "markdown",
   "metadata": {},
   "source": [
    "### FEATURE SELECTION "
   ]
  },
  {
   "cell_type": "code",
   "execution_count": 17,
   "metadata": {},
   "outputs": [],
   "source": [
    "from sklearn.preprocessing import LabelEncoder\n",
    "from sklearn.preprocessing import StandardScaler\n",
    "\n",
    "RFM[\"customer_category\"] = LabelEncoder().fit_transform(RFM[\"customer_category\"])\n",
    "RFM[\"Monetary_scaled\"] = StandardScaler().fit_transform(RFM[\"Monetary\"].values.reshape(-1, 1) )\n",
    "RFM[\"Margin_scaled\"] = StandardScaler().fit_transform(RFM[\"Margin\"].values.reshape(-1, 1) )"
   ]
  },
  {
   "cell_type": "code",
   "execution_count": 19,
   "metadata": {},
   "outputs": [
    {
     "data": {
      "text/html": [
       "<div>\n",
       "<style scoped>\n",
       "    .dataframe tbody tr th:only-of-type {\n",
       "        vertical-align: middle;\n",
       "    }\n",
       "\n",
       "    .dataframe tbody tr th {\n",
       "        vertical-align: top;\n",
       "    }\n",
       "\n",
       "    .dataframe thead th {\n",
       "        text-align: right;\n",
       "    }\n",
       "</style>\n",
       "<table border=\"1\" class=\"dataframe\">\n",
       "  <thead>\n",
       "    <tr style=\"text-align: right;\">\n",
       "      <th></th>\n",
       "      <th>Recency</th>\n",
       "      <th>Frequency</th>\n",
       "      <th>customer_category</th>\n",
       "      <th>Monetary_scaled</th>\n",
       "      <th>Margin_scaled</th>\n",
       "    </tr>\n",
       "  </thead>\n",
       "  <tbody>\n",
       "    <tr>\n",
       "      <th>0</th>\n",
       "      <td>40</td>\n",
       "      <td>3</td>\n",
       "      <td>0</td>\n",
       "      <td>0.113345</td>\n",
       "      <td>0.012630</td>\n",
       "    </tr>\n",
       "    <tr>\n",
       "      <th>1</th>\n",
       "      <td>45</td>\n",
       "      <td>1</td>\n",
       "      <td>2</td>\n",
       "      <td>0.130568</td>\n",
       "      <td>0.003280</td>\n",
       "    </tr>\n",
       "    <tr>\n",
       "      <th>2</th>\n",
       "      <td>177</td>\n",
       "      <td>2</td>\n",
       "      <td>2</td>\n",
       "      <td>0.016983</td>\n",
       "      <td>0.024028</td>\n",
       "    </tr>\n",
       "    <tr>\n",
       "      <th>3</th>\n",
       "      <td>-98</td>\n",
       "      <td>2</td>\n",
       "      <td>2</td>\n",
       "      <td>0.219541</td>\n",
       "      <td>0.024915</td>\n",
       "    </tr>\n",
       "    <tr>\n",
       "      <th>4</th>\n",
       "      <td>24</td>\n",
       "      <td>5</td>\n",
       "      <td>0</td>\n",
       "      <td>1.095341</td>\n",
       "      <td>0.481539</td>\n",
       "    </tr>\n",
       "    <tr>\n",
       "      <th>...</th>\n",
       "      <td>...</td>\n",
       "      <td>...</td>\n",
       "      <td>...</td>\n",
       "      <td>...</td>\n",
       "      <td>...</td>\n",
       "    </tr>\n",
       "    <tr>\n",
       "      <th>285850</th>\n",
       "      <td>31</td>\n",
       "      <td>1</td>\n",
       "      <td>1</td>\n",
       "      <td>-0.056878</td>\n",
       "      <td>-0.000877</td>\n",
       "    </tr>\n",
       "    <tr>\n",
       "      <th>285851</th>\n",
       "      <td>31</td>\n",
       "      <td>1</td>\n",
       "      <td>1</td>\n",
       "      <td>-0.081057</td>\n",
       "      <td>-0.004387</td>\n",
       "    </tr>\n",
       "    <tr>\n",
       "      <th>285852</th>\n",
       "      <td>31</td>\n",
       "      <td>1</td>\n",
       "      <td>1</td>\n",
       "      <td>-0.071194</td>\n",
       "      <td>-0.004519</td>\n",
       "    </tr>\n",
       "    <tr>\n",
       "      <th>285853</th>\n",
       "      <td>31</td>\n",
       "      <td>1</td>\n",
       "      <td>2</td>\n",
       "      <td>0.102485</td>\n",
       "      <td>0.003203</td>\n",
       "    </tr>\n",
       "    <tr>\n",
       "      <th>285854</th>\n",
       "      <td>31</td>\n",
       "      <td>1</td>\n",
       "      <td>2</td>\n",
       "      <td>0.066834</td>\n",
       "      <td>0.003612</td>\n",
       "    </tr>\n",
       "  </tbody>\n",
       "</table>\n",
       "<p>285855 rows × 5 columns</p>\n",
       "</div>"
      ],
      "text/plain": [
       "        Recency  Frequency  customer_category  Monetary_scaled  Margin_scaled\n",
       "0            40          3                  0         0.113345       0.012630\n",
       "1            45          1                  2         0.130568       0.003280\n",
       "2           177          2                  2         0.016983       0.024028\n",
       "3           -98          2                  2         0.219541       0.024915\n",
       "4            24          5                  0         1.095341       0.481539\n",
       "...         ...        ...                ...              ...            ...\n",
       "285850       31          1                  1        -0.056878      -0.000877\n",
       "285851       31          1                  1        -0.081057      -0.004387\n",
       "285852       31          1                  1        -0.071194      -0.004519\n",
       "285853       31          1                  2         0.102485       0.003203\n",
       "285854       31          1                  2         0.066834       0.003612\n",
       "\n",
       "[285855 rows x 5 columns]"
      ]
     },
     "execution_count": 19,
     "metadata": {},
     "output_type": "execute_result"
    }
   ],
   "source": [
    "Xs = RFM.drop(columns=['customer_id','Monetary','Margin'], axis=1)\n",
    "Xs"
   ]
  },
  {
   "cell_type": "markdown",
   "metadata": {},
   "source": [
    "## CLUSTERING "
   ]
  },
  {
   "cell_type": "code",
   "execution_count": 23,
   "metadata": {},
   "outputs": [
    {
     "data": {
      "image/png": "[encoded data removed]",
      "text/plain": [
       "<Figure size 800x600 with 1 Axes>"
      ]
     },
     "metadata": {},
     "output_type": "display_data"
    }
   ],
   "source": [
    "from sklearn.cluster import KMeans\n",
    "import matplotlib.pyplot as plt\n",
    "import warnings\n",
    "warnings.filterwarnings(\"ignore\")\n",
    "\n",
    "\n",
    "\n",
    "\n",
    "# Initialize an empty list to store the SSD values\n",
    "ssd_values = []\n",
    "\n",
    "# Try different values of K (number of clusters)\n",
    "K_range = range(1, 11)  # You can adjust the range as needed\n",
    "\n",
    "for K in K_range:\n",
    "    kmeans = KMeans(n_clusters=K, random_state=42, init='k-means++')\n",
    "    kmeans.fit(Xs)\n",
    "    ssd_values.append(kmeans.inertia_)  # Inertia is the SSD value\n",
    "\n",
    "# Plot the elbow method graph\n",
    "plt.figure(figsize=(8, 6))\n",
    "plt.plot(K_range, ssd_values, marker='o', linestyle='-')\n",
    "plt.xlabel('Number of Clusters (K)')\n",
    "plt.ylabel('Sum of Squared Distances (SSD)')\n",
    "plt.title('Elbow Method for Optimal K')\n",
    "plt.grid(True)\n",
    "plt.show()\n"
   ]
  },
  {
   "cell_type": "code",
   "execution_count": 24,
   "metadata": {},
   "outputs": [],
   "source": [
    "optimal_k = 2\n",
    "\n",
    "kmeans = KMeans(n_clusters= optimal_k, init= 'k-means++', random_state=42)\n",
    "\n",
    "#fitting the kmeans to the data\n",
    "kmeans.fit(Xs)\n",
    "\n",
    "#assigning the clusters label to each customer in the data\n",
    "customer_labels = kmeans.labels_\n",
    "\n",
    "centroids = kmeans.cluster_centers_\n",
    "\n",
    "# Add the cluster labels to your DataFrame if needed\n",
    "RFM['Cluster'] = customer_labels\n"
   ]
  },
  {
   "cell_type": "code",
   "execution_count": 20,
   "metadata": {},
   "outputs": [],
   "source": [
    "# kmeans = KMeans(n_clusters=2)\n",
    "\n",
    "# RFM['Cluster'] = cluster \n"
   ]
  },
  {
   "cell_type": "code",
   "execution_count": 25,
   "metadata": {},
   "outputs": [
    {
     "data": {
      "text/plain": [
       "0    239596\n",
       "1     46259\n",
       "Name: Cluster, dtype: int64"
      ]
     },
     "execution_count": 25,
     "metadata": {},
     "output_type": "execute_result"
    }
   ],
   "source": [
    "RFM['Cluster'].value_counts()"
   ]
  },
  {
   "cell_type": "markdown",
   "metadata": {},
   "source": [
    "There are two cluster which have an even distribution"
   ]
  },
  {
   "cell_type": "markdown",
   "metadata": {},
   "source": [
    "Calculate the Cluster Characteristics by comparing the different clusters on the following basis:\n",
    "\n",
    "    * Number of customers\n",
    "    * Sales contribution\n",
    "    * Margin contribution\n",
    "    * Monthly spend**\n",
    "    * Shopping frequency"
   ]
  },
  {
   "cell_type": "code",
   "execution_count": 22,
   "metadata": {},
   "outputs": [
    {
     "data": {
      "text/html": [
       "<div>\n",
       "<style scoped>\n",
       "    .dataframe tbody tr th:only-of-type {\n",
       "        vertical-align: middle;\n",
       "    }\n",
       "\n",
       "    .dataframe tbody tr th {\n",
       "        vertical-align: top;\n",
       "    }\n",
       "\n",
       "    .dataframe thead th {\n",
       "        text-align: right;\n",
       "    }\n",
       "</style>\n",
       "<table border=\"1\" class=\"dataframe\">\n",
       "  <thead>\n",
       "    <tr style=\"text-align: right;\">\n",
       "      <th></th>\n",
       "      <th>customer_id</th>\n",
       "      <th>Recency</th>\n",
       "      <th>Frequency</th>\n",
       "      <th>Monetary</th>\n",
       "      <th>Margin</th>\n",
       "      <th>customer_category</th>\n",
       "      <th>Cluster</th>\n",
       "    </tr>\n",
       "  </thead>\n",
       "  <tbody>\n",
       "    <tr>\n",
       "      <th>0</th>\n",
       "      <td>1</td>\n",
       "      <td>40</td>\n",
       "      <td>3</td>\n",
       "      <td>0.113345</td>\n",
       "      <td>0.012630</td>\n",
       "      <td>0</td>\n",
       "      <td>0</td>\n",
       "    </tr>\n",
       "    <tr>\n",
       "      <th>1</th>\n",
       "      <td>40</td>\n",
       "      <td>45</td>\n",
       "      <td>1</td>\n",
       "      <td>0.130568</td>\n",
       "      <td>0.003280</td>\n",
       "      <td>2</td>\n",
       "      <td>0</td>\n",
       "    </tr>\n",
       "    <tr>\n",
       "      <th>2</th>\n",
       "      <td>52</td>\n",
       "      <td>177</td>\n",
       "      <td>2</td>\n",
       "      <td>0.016983</td>\n",
       "      <td>0.024028</td>\n",
       "      <td>2</td>\n",
       "      <td>1</td>\n",
       "    </tr>\n",
       "    <tr>\n",
       "      <th>3</th>\n",
       "      <td>91</td>\n",
       "      <td>-98</td>\n",
       "      <td>2</td>\n",
       "      <td>0.219541</td>\n",
       "      <td>0.024915</td>\n",
       "      <td>2</td>\n",
       "      <td>0</td>\n",
       "    </tr>\n",
       "    <tr>\n",
       "      <th>4</th>\n",
       "      <td>140</td>\n",
       "      <td>24</td>\n",
       "      <td>5</td>\n",
       "      <td>1.095341</td>\n",
       "      <td>0.481539</td>\n",
       "      <td>0</td>\n",
       "      <td>0</td>\n",
       "    </tr>\n",
       "  </tbody>\n",
       "</table>\n",
       "</div>"
      ],
      "text/plain": [
       "   customer_id  Recency  Frequency  Monetary    Margin  customer_category  \\\n",
       "0            1       40          3  0.113345  0.012630                  0   \n",
       "1           40       45          1  0.130568  0.003280                  2   \n",
       "2           52      177          2  0.016983  0.024028                  2   \n",
       "3           91      -98          2  0.219541  0.024915                  2   \n",
       "4          140       24          5  1.095341  0.481539                  0   \n",
       "\n",
       "   Cluster  \n",
       "0        0  \n",
       "1        0  \n",
       "2        1  \n",
       "3        0  \n",
       "4        0  "
      ]
     },
     "execution_count": 22,
     "metadata": {},
     "output_type": "execute_result"
    }
   ],
   "source": [
    "RFM.head()"
   ]
  },
  {
   "cell_type": "code",
   "execution_count": 24,
   "metadata": {},
   "outputs": [],
   "source": [
    "cluster_stats = RFM.groupby('Cluster').agg({\n",
    "    'customer_id': 'count', #no of customers\n",
    "    'Monetary': 'sum', #sales contribution\n",
    "    'Margin': 'sum', #margin contribution\n",
    "    'Frequency': 'mean' # shopping frequency\n",
    "})"
   ]
  },
  {
   "cell_type": "code",
   "execution_count": 25,
   "metadata": {},
   "outputs": [
    {
     "data": {
      "text/html": [
       "<div>\n",
       "<style scoped>\n",
       "    .dataframe tbody tr th:only-of-type {\n",
       "        vertical-align: middle;\n",
       "    }\n",
       "\n",
       "    .dataframe tbody tr th {\n",
       "        vertical-align: top;\n",
       "    }\n",
       "\n",
       "    .dataframe thead th {\n",
       "        text-align: right;\n",
       "    }\n",
       "</style>\n",
       "<table border=\"1\" class=\"dataframe\">\n",
       "  <thead>\n",
       "    <tr style=\"text-align: right;\">\n",
       "      <th></th>\n",
       "      <th>customer_id</th>\n",
       "      <th>Monetary</th>\n",
       "      <th>Margin</th>\n",
       "      <th>Frequency</th>\n",
       "    </tr>\n",
       "    <tr>\n",
       "      <th>Cluster</th>\n",
       "      <th></th>\n",
       "      <th></th>\n",
       "      <th></th>\n",
       "      <th></th>\n",
       "    </tr>\n",
       "  </thead>\n",
       "  <tbody>\n",
       "    <tr>\n",
       "      <th>0</th>\n",
       "      <td>239596</td>\n",
       "      <td>1002.12506</td>\n",
       "      <td>-169.598019</td>\n",
       "      <td>1.839893</td>\n",
       "    </tr>\n",
       "    <tr>\n",
       "      <th>1</th>\n",
       "      <td>46259</td>\n",
       "      <td>-1002.12506</td>\n",
       "      <td>169.598019</td>\n",
       "      <td>1.268856</td>\n",
       "    </tr>\n",
       "  </tbody>\n",
       "</table>\n",
       "</div>"
      ],
      "text/plain": [
       "         customer_id    Monetary      Margin  Frequency\n",
       "Cluster                                                \n",
       "0             239596  1002.12506 -169.598019   1.839893\n",
       "1              46259 -1002.12506  169.598019   1.268856"
      ]
     },
     "execution_count": 25,
     "metadata": {},
     "output_type": "execute_result"
    }
   ],
   "source": [
    "cluster_stats.head()"
   ]
  }
 ],
 "metadata": {
  "kernelspec": {
   "display_name": "base",
   "language": "python",
   "name": "python3"
  },
  "language_info": {
   "codemirror_mode": {
    "name": "ipython",
    "version": 3
   },
   "file_extension": ".py",
   "mimetype": "text/x-python",
   "name": "python",
   "nbconvert_exporter": "python",
   "pygments_lexer": "ipython3",
   "version": "3.10.9"
  },
  "orig_nbformat": 4
 },
 "nbformat": 4,
 "nbformat_minor": 2
}
